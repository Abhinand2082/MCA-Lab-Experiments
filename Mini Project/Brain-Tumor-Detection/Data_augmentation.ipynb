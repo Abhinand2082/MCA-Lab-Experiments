{
 "cells": [
  {
   "cell_type": "code",
   "execution_count": 2,
   "id": "2fc85fa4-87ab-477b-99c9-0791c9fce4ac",
   "metadata": {},
   "outputs": [],
   "source": [
    "import os\n",
    "import numpy as np\n",
    "from tensorflow.keras.preprocessing.image import ImageDataGenerator, img_to_array, array_to_img, load_img\n",
    "\n",
    "# Define directories\n",
    "dataset_dir = 'Dataset'\n",
    "augmented_dir = 'augmented_images'\n",
    "os.makedirs(augmented_dir, exist_ok=True)\n",
    "\n",
    "train_dir = os.path.join(augmented_dir, 'training')\n",
    "val_dir = os.path.join(augmented_dir, 'validation')\n",
    "os.makedirs(train_dir, exist_ok=True)\n",
    "os.makedirs(val_dir, exist_ok=True)\n"
   ]
  },
  {
   "cell_type": "code",
   "execution_count": 3,
   "id": "54894460-b62e-43ed-8298-69df5021bc2f",
   "metadata": {},
   "outputs": [],
   "source": [
    "# Initialize ImageDataGenerator for augmentation\n",
    "datagen = ImageDataGenerator(\n",
    "    rescale=1.0/255.0,\n",
    "    rotation_range=40,\n",
    "    width_shift_range=0.2,\n",
    "    height_shift_range=0.2,\n",
    "    shear_range=0.2,\n",
    "    zoom_range=0.2,\n",
    "    horizontal_flip=True,\n",
    "    fill_mode='nearest'\n",
    ")\n"
   ]
  },
  {
   "cell_type": "code",
   "execution_count": 5,
   "id": "ab5b5e7f-e7c0-459e-b08e-1bc0515b2263",
   "metadata": {},
   "outputs": [],
   "source": [
    "def augment_and_save_images(source_dir, target_dir, num_images_to_generate):\n",
    "    categories = ['yes', 'no']\n",
    "    for category in categories:\n",
    "        category_dir = os.path.join(source_dir, category)\n",
    "        target_category_dir = os.path.join(target_dir, category)\n",
    "        \n",
    "        # Check if source directory exists\n",
    "        if not os.path.exists(category_dir):\n",
    "            print(f\"Source directory {category_dir} does not exist.\")\n",
    "            continue\n",
    "        \n",
    "        # Create target directory if it does not exist\n",
    "        if not os.path.exists(target_category_dir):\n",
    "            os.makedirs(target_category_dir)\n",
    "        \n",
    "        image_files = [os.path.join(category_dir, fname) for fname in os.listdir(category_dir) if fname.lower().endswith(('.png', '.jpg', '.jpeg'))]\n",
    "        counter = 0\n",
    "        \n",
    "        for image_path in image_files:\n",
    "            try:\n",
    "                image = load_img(image_path)\n",
    "                image_array = img_to_array(image)\n",
    "                image_array = np.expand_dims(image_array, axis=0)\n",
    "                \n",
    "                for batch in datagen.flow(image_array, batch_size=1):\n",
    "                    augmented_image = array_to_img(batch[0])\n",
    "                    augmented_image.save(os.path.join(target_category_dir, f'{category}_augmented_{counter:04d}.jpg'))\n",
    "                    counter += 1\n",
    "                    if counter >= num_images_to_generate:\n",
    "                        break\n",
    "                if counter >= num_images_to_generate:\n",
    "                    break\n",
    "            except Exception as e:\n",
    "                print(f\"Error processing {image_path}: {e}\")\n",
    "\n",
    "# Number of images to generate for training and validation sets\n",
    "num_images_per_category = 1000  # Adjust as needed\n",
    "\n",
    "# Augment and save images\n",
    "augment_and_save_images(dataset_dir, train_dir, num_images_per_category)\n",
    "augment_and_save_images(dataset_dir, val_dir, num_images_per_category)\n"
   ]
  },
  {
   "cell_type": "code",
   "execution_count": 6,
   "id": "a65ac8d3-8da1-4453-8fe8-072d878a73d0",
   "metadata": {},
   "outputs": [
    {
     "name": "stdout",
     "output_type": "stream",
     "text": [
      "Found 1600 images belonging to 2 classes.\n",
      "Found 400 images belonging to 2 classes.\n"
     ]
    }
   ],
   "source": [
    "from tensorflow.keras.preprocessing.image import ImageDataGenerator\n",
    "\n",
    "# Define data generators\n",
    "train_datagen = ImageDataGenerator(\n",
    "    rescale=1.0/255.0,\n",
    "    validation_split=0.2\n",
    ")\n",
    "\n",
    "train_generator = train_datagen.flow_from_directory(\n",
    "    augmented_dir + '/training',\n",
    "    target_size=(150, 150),\n",
    "    batch_size=32,\n",
    "    class_mode='categorical',\n",
    "    subset='training'\n",
    ")\n",
    "\n",
    "validation_generator = train_datagen.flow_from_directory(\n",
    "    augmented_dir + '/validation',\n",
    "    target_size=(150, 150),\n",
    "    batch_size=32,\n",
    "    class_mode='categorical',\n",
    "    subset='validation'\n",
    ")\n"
   ]
  },
  {
   "cell_type": "markdown",
   "id": "6730523a-d0bc-4d41-a689-53ed66e340a3",
   "metadata": {},
   "source": [
    "Retrain the Model"
   ]
  },
  {
   "cell_type": "code",
   "execution_count": null,
   "id": "b7a86af9-17cb-4724-8255-bd33c9e2ec71",
   "metadata": {},
   "outputs": [],
   "source": []
  }
 ],
 "metadata": {
  "kernelspec": {
   "display_name": "Python 3 (ipykernel)",
   "language": "python",
   "name": "python3"
  },
  "language_info": {
   "codemirror_mode": {
    "name": "ipython",
    "version": 3
   },
   "file_extension": ".py",
   "mimetype": "text/x-python",
   "name": "python",
   "nbconvert_exporter": "python",
   "pygments_lexer": "ipython3",
   "version": "3.12.4"
  }
 },
 "nbformat": 4,
 "nbformat_minor": 5
}
