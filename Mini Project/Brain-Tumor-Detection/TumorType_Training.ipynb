{
 "cells": [
  {
   "cell_type": "code",
   "execution_count": 1,
   "id": "aa206392-c926-4cd3-8645-2565650cdac1",
   "metadata": {},
   "outputs": [],
   "source": [
    "import os\n",
    "import shutil\n",
    "import numpy as np\n",
    "import matplotlib.pyplot as plt\n",
    "import tensorflow as tf\n",
    "from tensorflow.keras.callbacks import EarlyStopping\n",
    "from sklearn.model_selection import train_test_split\n",
    "from tensorflow.keras.preprocessing.image import ImageDataGenerator\n",
    "from tensorflow.keras.models import Sequential\n",
    "from tensorflow.keras.layers import Conv2D, MaxPooling2D, Flatten, Dense, Dropout\n",
    "from tensorflow.keras.callbacks import EarlyStopping\n",
    "import cv2\n"
   ]
  },
  {
   "cell_type": "code",
   "execution_count": 2,
   "id": "2cd4a9ec-b29f-40ef-a0b7-00ad6b9a91bc",
   "metadata": {},
   "outputs": [],
   "source": [
    "# Paths\n",
    "dataset_path = 'Data_Set'\n",
    "train_dir = 'Data_Set/Train'\n",
    "val_dir = 'Data_Set/Validation'\n",
    "\n",
    "# Create train and validation directories\n",
    "os.makedirs(train_dir, exist_ok=True)\n",
    "os.makedirs(val_dir, exist_ok=True)\n",
    "\n",
    "classes = ['glioma_tumor', 'meningioma_tumor', 'Normal', 'pituitary_tumor']\n",
    "for cls in classes:\n",
    "    os.makedirs(os.path.join(train_dir, cls), exist_ok=True)\n",
    "    os.makedirs(os.path.join(val_dir, cls), exist_ok=True)\n"
   ]
  },
  {
   "cell_type": "code",
   "execution_count": 3,
   "id": "65521234-e06f-4c54-bf79-6576803497dd",
   "metadata": {},
   "outputs": [],
   "source": [
    "# Function to split and save images to respective folders\n",
    "def split_and_save_images(class_name):\n",
    "    class_path = os.path.join(dataset_path, class_name)\n",
    "    images = os.listdir(class_path)\n",
    "    train_images, val_images = train_test_split(images, test_size=0.2, random_state=42)\n",
    "\n",
    "    # Move training images\n",
    "    for img in train_images:\n",
    "        shutil.move(os.path.join(class_path, img), os.path.join(train_dir, class_name, img))\n",
    "\n",
    "    # Move validation images\n",
    "    for img in val_images:\n",
    "        shutil.move(os.path.join(class_path, img), os.path.join(val_dir, class_name, img))\n",
    "\n",
    "# Apply the function to all classes\n",
    "for cls in classes:\n",
    "    split_and_save_images(cls)\n"
   ]
  },
  {
   "cell_type": "code",
   "execution_count": 4,
   "id": "bc6816c9-06b8-4062-b4fc-0643b41973bd",
   "metadata": {},
   "outputs": [
    {
     "name": "stdout",
     "output_type": "stream",
     "text": [
      "Found 17335 images belonging to 4 classes.\n",
      "Found 4337 images belonging to 4 classes.\n"
     ]
    }
   ],
   "source": [
    "# Image data generators for augmenting the data\n",
    "train_datagen = ImageDataGenerator(rescale=1./255,\n",
    "                                   rotation_range=20,\n",
    "                                   width_shift_range=0.2,\n",
    "                                   height_shift_range=0.2,\n",
    "                                   shear_range=0.2,\n",
    "                                   zoom_range=0.2,\n",
    "                                   horizontal_flip=True)\n",
    "\n",
    "val_datagen = ImageDataGenerator(rescale=1./255)\n",
    "\n",
    "# Load images\n",
    "train_generator = train_datagen.flow_from_directory(train_dir,\n",
    "                                                    target_size=(150, 150),\n",
    "                                                    batch_size=32,\n",
    "                                                    class_mode='categorical')\n",
    "\n",
    "val_generator = val_datagen.flow_from_directory(val_dir,\n",
    "                                                target_size=(150, 150),\n",
    "                                                batch_size=32,\n",
    "                                                class_mode='categorical')\n"
   ]
  },
  {
   "cell_type": "code",
   "execution_count": 5,
   "id": "6c3546ad-48ee-4d31-a1d6-bc9c884eaaed",
   "metadata": {},
   "outputs": [
    {
     "name": "stderr",
     "output_type": "stream",
     "text": [
      "D:\\Python\\Lib\\site-packages\\keras\\src\\layers\\convolutional\\base_conv.py:107: UserWarning: Do not pass an `input_shape`/`input_dim` argument to a layer. When using Sequential models, prefer using an `Input(shape)` object as the first layer in the model instead.\n",
      "  super().__init__(activity_regularizer=activity_regularizer, **kwargs)\n"
     ]
    }
   ],
   "source": [
    "# Build a simple CNN model\n",
    "model = Sequential([\n",
    "    Conv2D(32, (3, 3), activation='relu', input_shape=(150, 150, 3)),\n",
    "    MaxPooling2D(pool_size=(2, 2)),\n",
    "\n",
    "    Conv2D(64, (3, 3), activation='relu'),\n",
    "    MaxPooling2D(pool_size=(2, 2)),\n",
    "\n",
    "    Conv2D(128, (3, 3), activation='relu'),\n",
    "    MaxPooling2D(pool_size=(2, 2)),\n",
    "\n",
    "    Flatten(),\n",
    "    Dense(128, activation='relu'),\n",
    "    Dropout(0.5),\n",
    "    Dense(4, activation='softmax')\n",
    "])\n",
    "\n",
    "# Compile the model\n",
    "model.compile(optimizer='adam',\n",
    "              loss='categorical_crossentropy',\n",
    "              metrics=['accuracy'])\n"
   ]
  },
  {
   "cell_type": "code",
   "execution_count": 6,
   "id": "c3d350e8-6da1-4d5a-83cd-15e28b9ce7ce",
   "metadata": {},
   "outputs": [
    {
     "name": "stdout",
     "output_type": "stream",
     "text": [
      "Epoch 1/30\n"
     ]
    },
    {
     "name": "stderr",
     "output_type": "stream",
     "text": [
      "D:\\Python\\Lib\\site-packages\\keras\\src\\trainers\\data_adapters\\py_dataset_adapter.py:121: UserWarning: Your `PyDataset` class should call `super().__init__(**kwargs)` in its constructor. `**kwargs` can include `workers`, `use_multiprocessing`, `max_queue_size`. Do not pass these arguments to `fit()`, as they will be ignored.\n",
      "  self._warn_if_super_not_called()\n"
     ]
    },
    {
     "name": "stdout",
     "output_type": "stream",
     "text": [
      "\u001b[1m542/542\u001b[0m \u001b[32m━━━━━━━━━━━━━━━━━━━━\u001b[0m\u001b[37m\u001b[0m \u001b[1m0s\u001b[0m 444ms/step - accuracy: 0.3758 - loss: 1.2799\n",
      "Epoch 1: val_loss improved from inf to 1.12523, saving model to model_checkpoint.weights.h5\n",
      "\u001b[1m542/542\u001b[0m \u001b[32m━━━━━━━━━━━━━━━━━━━━\u001b[0m\u001b[37m\u001b[0m \u001b[1m263s\u001b[0m 480ms/step - accuracy: 0.3759 - loss: 1.2798 - val_accuracy: 0.5038 - val_loss: 1.1252\n",
      "Epoch 2/30\n",
      "\u001b[1m542/542\u001b[0m \u001b[32m━━━━━━━━━━━━━━━━━━━━\u001b[0m\u001b[37m\u001b[0m \u001b[1m0s\u001b[0m 478ms/step - accuracy: 0.5082 - loss: 1.0914\n",
      "Epoch 2: val_loss improved from 1.12523 to 0.89164, saving model to model_checkpoint.weights.h5\n",
      "\u001b[1m542/542\u001b[0m \u001b[32m━━━━━━━━━━━━━━━━━━━━\u001b[0m\u001b[37m\u001b[0m \u001b[1m279s\u001b[0m 512ms/step - accuracy: 0.5083 - loss: 1.0914 - val_accuracy: 0.6318 - val_loss: 0.8916\n",
      "Epoch 3/30\n",
      "\u001b[1m542/542\u001b[0m \u001b[32m━━━━━━━━━━━━━━━━━━━━\u001b[0m\u001b[37m\u001b[0m \u001b[1m0s\u001b[0m 544ms/step - accuracy: 0.5634 - loss: 1.0012\n",
      "Epoch 3: val_loss improved from 0.89164 to 0.84297, saving model to model_checkpoint.weights.h5\n",
      "\u001b[1m542/542\u001b[0m \u001b[32m━━━━━━━━━━━━━━━━━━━━\u001b[0m\u001b[37m\u001b[0m \u001b[1m313s\u001b[0m 575ms/step - accuracy: 0.5634 - loss: 1.0011 - val_accuracy: 0.6401 - val_loss: 0.8430\n",
      "Epoch 4/30\n",
      "\u001b[1m542/542\u001b[0m \u001b[32m━━━━━━━━━━━━━━━━━━━━\u001b[0m\u001b[37m\u001b[0m \u001b[1m0s\u001b[0m 384ms/step - accuracy: 0.5993 - loss: 0.9277\n",
      "Epoch 4: val_loss improved from 0.84297 to 0.74028, saving model to model_checkpoint.weights.h5\n",
      "\u001b[1m542/542\u001b[0m \u001b[32m━━━━━━━━━━━━━━━━━━━━\u001b[0m\u001b[37m\u001b[0m \u001b[1m224s\u001b[0m 410ms/step - accuracy: 0.5994 - loss: 0.9277 - val_accuracy: 0.7000 - val_loss: 0.7403\n",
      "Epoch 5/30\n",
      "\u001b[1m542/542\u001b[0m \u001b[32m━━━━━━━━━━━━━━━━━━━━\u001b[0m\u001b[37m\u001b[0m \u001b[1m0s\u001b[0m 456ms/step - accuracy: 0.6510 - loss: 0.8287\n",
      "Epoch 5: val_loss improved from 0.74028 to 0.69804, saving model to model_checkpoint.weights.h5\n",
      "\u001b[1m542/542\u001b[0m \u001b[32m━━━━━━━━━━━━━━━━━━━━\u001b[0m\u001b[37m\u001b[0m \u001b[1m264s\u001b[0m 484ms/step - accuracy: 0.6510 - loss: 0.8287 - val_accuracy: 0.7173 - val_loss: 0.6980\n",
      "Epoch 6/30\n",
      "\u001b[1m542/542\u001b[0m \u001b[32m━━━━━━━━━━━━━━━━━━━━\u001b[0m\u001b[37m\u001b[0m \u001b[1m0s\u001b[0m 377ms/step - accuracy: 0.6894 - loss: 0.7468\n",
      "Epoch 6: val_loss improved from 0.69804 to 0.56138, saving model to model_checkpoint.weights.h5\n",
      "\u001b[1m542/542\u001b[0m \u001b[32m━━━━━━━━━━━━━━━━━━━━\u001b[0m\u001b[37m\u001b[0m \u001b[1m221s\u001b[0m 405ms/step - accuracy: 0.6894 - loss: 0.7468 - val_accuracy: 0.7962 - val_loss: 0.5614\n",
      "Epoch 7/30\n",
      "\u001b[1m542/542\u001b[0m \u001b[32m━━━━━━━━━━━━━━━━━━━━\u001b[0m\u001b[37m\u001b[0m \u001b[1m0s\u001b[0m 362ms/step - accuracy: 0.7284 - loss: 0.6916\n",
      "Epoch 7: val_loss did not improve from 0.56138\n",
      "\u001b[1m542/542\u001b[0m \u001b[32m━━━━━━━━━━━━━━━━━━━━\u001b[0m\u001b[37m\u001b[0m \u001b[1m214s\u001b[0m 392ms/step - accuracy: 0.7284 - loss: 0.6916 - val_accuracy: 0.7646 - val_loss: 0.5854\n",
      "Epoch 8/30\n",
      "\u001b[1m542/542\u001b[0m \u001b[32m━━━━━━━━━━━━━━━━━━━━\u001b[0m\u001b[37m\u001b[0m \u001b[1m0s\u001b[0m 416ms/step - accuracy: 0.7490 - loss: 0.6522\n",
      "Epoch 8: val_loss improved from 0.56138 to 0.47641, saving model to model_checkpoint.weights.h5\n",
      "\u001b[1m542/542\u001b[0m \u001b[32m━━━━━━━━━━━━━━━━━━━━\u001b[0m\u001b[37m\u001b[0m \u001b[1m241s\u001b[0m 443ms/step - accuracy: 0.7490 - loss: 0.6522 - val_accuracy: 0.8172 - val_loss: 0.4764\n",
      "Epoch 9/30\n",
      "\u001b[1m542/542\u001b[0m \u001b[32m━━━━━━━━━━━━━━━━━━━━\u001b[0m\u001b[37m\u001b[0m \u001b[1m0s\u001b[0m 878ms/step - accuracy: 0.7580 - loss: 0.6169\n",
      "Epoch 9: val_loss did not improve from 0.47641\n",
      "\u001b[1m542/542\u001b[0m \u001b[32m━━━━━━━━━━━━━━━━━━━━\u001b[0m\u001b[37m\u001b[0m \u001b[1m490s\u001b[0m 903ms/step - accuracy: 0.7580 - loss: 0.6169 - val_accuracy: 0.8139 - val_loss: 0.4948\n",
      "Epoch 10/30\n",
      "\u001b[1m542/542\u001b[0m \u001b[32m━━━━━━━━━━━━━━━━━━━━\u001b[0m\u001b[37m\u001b[0m \u001b[1m0s\u001b[0m 383ms/step - accuracy: 0.7703 - loss: 0.5941\n",
      "Epoch 10: val_loss improved from 0.47641 to 0.41436, saving model to model_checkpoint.weights.h5\n",
      "\u001b[1m542/542\u001b[0m \u001b[32m━━━━━━━━━━━━━━━━━━━━\u001b[0m\u001b[37m\u001b[0m \u001b[1m221s\u001b[0m 406ms/step - accuracy: 0.7703 - loss: 0.5940 - val_accuracy: 0.8474 - val_loss: 0.4144\n",
      "Epoch 11/30\n",
      "\u001b[1m542/542\u001b[0m \u001b[32m━━━━━━━━━━━━━━━━━━━━\u001b[0m\u001b[37m\u001b[0m \u001b[1m0s\u001b[0m 383ms/step - accuracy: 0.7896 - loss: 0.5481\n",
      "Epoch 11: val_loss did not improve from 0.41436\n",
      "\u001b[1m542/542\u001b[0m \u001b[32m━━━━━━━━━━━━━━━━━━━━\u001b[0m\u001b[37m\u001b[0m \u001b[1m225s\u001b[0m 413ms/step - accuracy: 0.7896 - loss: 0.5481 - val_accuracy: 0.8234 - val_loss: 0.4630\n",
      "Epoch 12/30\n",
      "\u001b[1m542/542\u001b[0m \u001b[32m━━━━━━━━━━━━━━━━━━━━\u001b[0m\u001b[37m\u001b[0m \u001b[1m0s\u001b[0m 381ms/step - accuracy: 0.7979 - loss: 0.5487\n",
      "Epoch 12: val_loss improved from 0.41436 to 0.40788, saving model to model_checkpoint.weights.h5\n",
      "\u001b[1m542/542\u001b[0m \u001b[32m━━━━━━━━━━━━━━━━━━━━\u001b[0m\u001b[37m\u001b[0m \u001b[1m224s\u001b[0m 411ms/step - accuracy: 0.7979 - loss: 0.5486 - val_accuracy: 0.8510 - val_loss: 0.4079\n",
      "Epoch 13/30\n",
      "\u001b[1m542/542\u001b[0m \u001b[32m━━━━━━━━━━━━━━━━━━━━\u001b[0m\u001b[37m\u001b[0m \u001b[1m0s\u001b[0m 376ms/step - accuracy: 0.8141 - loss: 0.5027\n",
      "Epoch 13: val_loss improved from 0.40788 to 0.40769, saving model to model_checkpoint.weights.h5\n",
      "\u001b[1m542/542\u001b[0m \u001b[32m━━━━━━━━━━━━━━━━━━━━\u001b[0m\u001b[37m\u001b[0m \u001b[1m222s\u001b[0m 406ms/step - accuracy: 0.8141 - loss: 0.5027 - val_accuracy: 0.8464 - val_loss: 0.4077\n",
      "Epoch 14/30\n",
      "\u001b[1m542/542\u001b[0m \u001b[32m━━━━━━━━━━━━━━━━━━━━\u001b[0m\u001b[37m\u001b[0m \u001b[1m0s\u001b[0m 403ms/step - accuracy: 0.8169 - loss: 0.5025\n",
      "Epoch 14: val_loss improved from 0.40769 to 0.36704, saving model to model_checkpoint.weights.h5\n",
      "\u001b[1m542/542\u001b[0m \u001b[32m━━━━━━━━━━━━━━━━━━━━\u001b[0m\u001b[37m\u001b[0m \u001b[1m233s\u001b[0m 428ms/step - accuracy: 0.8169 - loss: 0.5024 - val_accuracy: 0.8681 - val_loss: 0.3670\n",
      "Epoch 15/30\n",
      "\u001b[1m542/542\u001b[0m \u001b[32m━━━━━━━━━━━━━━━━━━━━\u001b[0m\u001b[37m\u001b[0m \u001b[1m0s\u001b[0m 373ms/step - accuracy: 0.8219 - loss: 0.4767\n",
      "Epoch 15: val_loss did not improve from 0.36704\n",
      "\u001b[1m542/542\u001b[0m \u001b[32m━━━━━━━━━━━━━━━━━━━━\u001b[0m\u001b[37m\u001b[0m \u001b[1m217s\u001b[0m 398ms/step - accuracy: 0.8219 - loss: 0.4767 - val_accuracy: 0.8550 - val_loss: 0.3932\n",
      "Epoch 16/30\n",
      "\u001b[1m542/542\u001b[0m \u001b[32m━━━━━━━━━━━━━━━━━━━━\u001b[0m\u001b[37m\u001b[0m \u001b[1m0s\u001b[0m 373ms/step - accuracy: 0.8245 - loss: 0.4646\n",
      "Epoch 16: val_loss improved from 0.36704 to 0.34069, saving model to model_checkpoint.weights.h5\n",
      "\u001b[1m542/542\u001b[0m \u001b[32m━━━━━━━━━━━━━━━━━━━━\u001b[0m\u001b[37m\u001b[0m \u001b[1m217s\u001b[0m 398ms/step - accuracy: 0.8245 - loss: 0.4647 - val_accuracy: 0.8730 - val_loss: 0.3407\n",
      "Epoch 17/30\n",
      "\u001b[1m542/542\u001b[0m \u001b[32m━━━━━━━━━━━━━━━━━━━━\u001b[0m\u001b[37m\u001b[0m \u001b[1m0s\u001b[0m 391ms/step - accuracy: 0.8304 - loss: 0.4667\n",
      "Epoch 17: val_loss did not improve from 0.34069\n",
      "\u001b[1m542/542\u001b[0m \u001b[32m━━━━━━━━━━━━━━━━━━━━\u001b[0m\u001b[37m\u001b[0m \u001b[1m227s\u001b[0m 417ms/step - accuracy: 0.8305 - loss: 0.4666 - val_accuracy: 0.8702 - val_loss: 0.3503\n",
      "Epoch 18/30\n",
      "\u001b[1m542/542\u001b[0m \u001b[32m━━━━━━━━━━━━━━━━━━━━\u001b[0m\u001b[37m\u001b[0m \u001b[1m0s\u001b[0m 368ms/step - accuracy: 0.8413 - loss: 0.4378\n",
      "Epoch 18: val_loss improved from 0.34069 to 0.32540, saving model to model_checkpoint.weights.h5\n",
      "\u001b[1m542/542\u001b[0m \u001b[32m━━━━━━━━━━━━━━━━━━━━\u001b[0m\u001b[37m\u001b[0m \u001b[1m213s\u001b[0m 392ms/step - accuracy: 0.8413 - loss: 0.4378 - val_accuracy: 0.8755 - val_loss: 0.3254\n",
      "Epoch 19/30\n",
      "\u001b[1m542/542\u001b[0m \u001b[32m━━━━━━━━━━━━━━━━━━━━\u001b[0m\u001b[37m\u001b[0m \u001b[1m0s\u001b[0m 425ms/step - accuracy: 0.8395 - loss: 0.4358\n",
      "Epoch 19: val_loss did not improve from 0.32540\n",
      "\u001b[1m542/542\u001b[0m \u001b[32m━━━━━━━━━━━━━━━━━━━━\u001b[0m\u001b[37m\u001b[0m \u001b[1m249s\u001b[0m 457ms/step - accuracy: 0.8395 - loss: 0.4357 - val_accuracy: 0.8780 - val_loss: 0.3327\n",
      "Epoch 20/30\n",
      "\u001b[1m542/542\u001b[0m \u001b[32m━━━━━━━━━━━━━━━━━━━━\u001b[0m\u001b[37m\u001b[0m \u001b[1m0s\u001b[0m 369ms/step - accuracy: 0.8492 - loss: 0.4056\n",
      "Epoch 20: val_loss did not improve from 0.32540\n",
      "\u001b[1m542/542\u001b[0m \u001b[32m━━━━━━━━━━━━━━━━━━━━\u001b[0m\u001b[37m\u001b[0m \u001b[1m214s\u001b[0m 392ms/step - accuracy: 0.8492 - loss: 0.4056 - val_accuracy: 0.8520 - val_loss: 0.3769\n",
      "Epoch 21/30\n",
      "\u001b[1m542/542\u001b[0m \u001b[32m━━━━━━━━━━━━━━━━━━━━\u001b[0m\u001b[37m\u001b[0m \u001b[1m0s\u001b[0m 381ms/step - accuracy: 0.8417 - loss: 0.4209\n",
      "Epoch 21: val_loss did not improve from 0.32540\n",
      "\u001b[1m542/542\u001b[0m \u001b[32m━━━━━━━━━━━━━━━━━━━━\u001b[0m\u001b[37m\u001b[0m \u001b[1m220s\u001b[0m 404ms/step - accuracy: 0.8417 - loss: 0.4209 - val_accuracy: 0.8706 - val_loss: 0.3411\n",
      "Epoch 22/30\n",
      "\u001b[1m542/542\u001b[0m \u001b[32m━━━━━━━━━━━━━━━━━━━━\u001b[0m\u001b[37m\u001b[0m \u001b[1m0s\u001b[0m 371ms/step - accuracy: 0.8549 - loss: 0.4014\n",
      "Epoch 22: val_loss did not improve from 0.32540\n",
      "\u001b[1m542/542\u001b[0m \u001b[32m━━━━━━━━━━━━━━━━━━━━\u001b[0m\u001b[37m\u001b[0m \u001b[1m215s\u001b[0m 394ms/step - accuracy: 0.8549 - loss: 0.4014 - val_accuracy: 0.8716 - val_loss: 0.3257\n",
      "Epoch 23/30\n",
      "\u001b[1m542/542\u001b[0m \u001b[32m━━━━━━━━━━━━━━━━━━━━\u001b[0m\u001b[37m\u001b[0m \u001b[1m0s\u001b[0m 385ms/step - accuracy: 0.8519 - loss: 0.4014\n",
      "Epoch 23: val_loss did not improve from 0.32540\n",
      "\u001b[1m542/542\u001b[0m \u001b[32m━━━━━━━━━━━━━━━━━━━━\u001b[0m\u001b[37m\u001b[0m \u001b[1m226s\u001b[0m 415ms/step - accuracy: 0.8519 - loss: 0.4014 - val_accuracy: 0.8695 - val_loss: 0.3513\n"
     ]
    }
   ],
   "source": [
    "from tensorflow.keras.callbacks import EarlyStopping, ModelCheckpoint\n",
    "\n",
    "# Early stopping callback to prevent overfitting\n",
    "early_stop = EarlyStopping(monitor='val_loss', patience=5, restore_best_weights=True)\n",
    "\n",
    "# Model checkpoint callback to save the best model weights\n",
    "checkpoint = ModelCheckpoint('model_checkpoint.weights.h5', \n",
    "                              monitor='val_loss', \n",
    "                              save_best_only=True, \n",
    "                              save_weights_only=True, \n",
    "                              verbose=1)\n",
    "\n",
    "# Train the model\n",
    "history = model.fit(train_generator,\n",
    "                    epochs=30,\n",
    "                    validation_data=val_generator,\n",
    "                    callbacks=[early_stop, checkpoint])\n"
   ]
  },
  {
   "cell_type": "code",
   "execution_count": 7,
   "id": "ff4ed189-db53-4c83-a921-ff3a1c984d77",
   "metadata": {},
   "outputs": [
    {
     "data": {
      "image/png": "[encoded data removed]",
      "text/plain": [
       "<Figure size 1200x400 with 2 Axes>"
      ]
     },
     "metadata": {},
     "output_type": "display_data"
    }
   ],
   "source": [
    "# Plot training & validation accuracy values\n",
    "plt.figure(figsize=(12, 4))\n",
    "plt.subplot(1, 2, 1)\n",
    "plt.plot(history.history['accuracy'])\n",
    "plt.plot(history.history['val_accuracy'])\n",
    "plt.title('Model accuracy')\n",
    "plt.ylabel('Accuracy')\n",
    "plt.xlabel('Epoch')\n",
    "plt.legend(['Train', 'Validation'], loc='upper left')\n",
    "\n",
    "# Plot training & validation loss values\n",
    "plt.subplot(1, 2, 2)\n",
    "plt.plot(history.history['loss'])\n",
    "plt.plot(history.history['val_loss'])\n",
    "plt.title('Model loss')\n",
    "plt.ylabel('Loss')\n",
    "plt.xlabel('Epoch')\n",
    "plt.legend(['Train', 'Validation'], loc='upper left')\n",
    "\n",
    "plt.show()\n"
   ]
  },
  {
   "cell_type": "code",
   "execution_count": 8,
   "id": "0416b4d3-457e-4238-a269-73f7b6373ded",
   "metadata": {},
   "outputs": [
    {
     "name": "stderr",
     "output_type": "stream",
     "text": [
      "WARNING:absl:You are saving your model as an HDF5 file via `model.save()` or `keras.saving.save_model(model)`. This file format is considered legacy. We recommend using instead the native Keras format, e.g. `model.save('my_model.keras')` or `keras.saving.save_model(model, 'my_model.keras')`. \n"
     ]
    },
    {
     "name": "stdout",
     "output_type": "stream",
     "text": [
      "Model saved as 'brain_tumor_detection_cnn.h5'\n"
     ]
    }
   ],
   "source": [
    "# Save the model\n",
    "model.save('brain_tumor_detection_cnn.h5')\n",
    "print(\"Model saved as 'brain_tumor_detection_cnn.h5'\")\n"
   ]
  },
  {
   "cell_type": "code",
   "execution_count": 12,
   "id": "4a6a8500-3d83-46a1-9998-4291d804fa4b",
   "metadata": {},
   "outputs": [
    {
     "name": "stderr",
     "output_type": "stream",
     "text": [
      "WARNING:absl:Compiled the loaded model, but the compiled metrics have yet to be built. `model.compile_metrics` will be empty until you train or evaluate the model.\n"
     ]
    },
    {
     "name": "stdout",
     "output_type": "stream",
     "text": [
      "\u001b[1m1/1\u001b[0m \u001b[32m━━━━━━━━━━━━━━━━━━━━\u001b[0m\u001b[37m\u001b[0m \u001b[1m0s\u001b[0m 97ms/step\n",
      "Normal\n"
     ]
    }
   ],
   "source": [
    "# Load model for prediction\n",
    "model = tf.keras.models.load_model('brain_tumor_detection_cnn.h5')\n",
    "\n",
    "# Example function to make predictions on new images\n",
    "def predict_tumor(image_path):\n",
    "    img = cv2.imread(image_path)\n",
    "    img = cv2.resize(img, (150, 150))\n",
    "    img = img / 255.0  # Normalize\n",
    "    img = np.expand_dims(img, axis=0)  # Add batch dimension\n",
    "\n",
    "    prediction = model.predict(img)\n",
    "    class_idx = np.argmax(prediction, axis=1)[0]\n",
    "    class_labels = train_generator.class_indices\n",
    "    labels = dict((v, k) for k, v in class_labels.items())  # Reverse the dictionary\n",
    "    \n",
    "    return labels[class_idx]\n",
    "\n",
    "# Test with a new image\n",
    "print(predict_tumor('10 no.jpg'))\n"
   ]
  },
  {
   "cell_type": "code",
   "execution_count": null,
   "id": "56fe85fc-b83d-4456-8de5-b01b1dc2d6b9",
   "metadata": {},
   "outputs": [],
   "source": []
  }
 ],
 "metadata": {
  "kernelspec": {
   "display_name": "Python 3 (ipykernel)",
   "language": "python",
   "name": "python3"
  },
  "language_info": {
   "codemirror_mode": {
    "name": "ipython",
    "version": 3
   },
   "file_extension": ".py",
   "mimetype": "text/x-python",
   "name": "python",
   "nbconvert_exporter": "python",
   "pygments_lexer": "ipython3",
   "version": "3.12.4"
  }
 },
 "nbformat": 4,
 "nbformat_minor": 5
}
